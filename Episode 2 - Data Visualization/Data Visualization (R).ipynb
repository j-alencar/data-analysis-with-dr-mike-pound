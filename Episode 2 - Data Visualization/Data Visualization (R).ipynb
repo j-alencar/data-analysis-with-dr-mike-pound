{
 "cells": [
  {
   "cell_type": "markdown",
   "metadata": {
    "vscode": {
     "languageId": "r"
    }
   },
   "source": [
    "Plots can be deceptive."
   ]
  },
  {
   "cell_type": "markdown",
   "metadata": {},
   "source": [
    "# Initial extraction, aggregation"
   ]
  },
  {
   "cell_type": "code",
   "execution_count": 4,
   "metadata": {
    "vscode": {
     "languageId": "r"
    }
   },
   "outputs": [
    {
     "data": {
      "text/html": [
       "<table class=\"dataframe\">\n",
       "<caption>A data.frame: 6 × 5</caption>\n",
       "<thead>\n",
       "\t<tr><th></th><th scope=col>weight</th><th scope=col>eggs</th><th scope=col>age</th><th scope=col>diet</th><th scope=col>wk</th></tr>\n",
       "\t<tr><th></th><th scope=col>&lt;dbl&gt;</th><th scope=col>&lt;dbl&gt;</th><th scope=col>&lt;dbl&gt;</th><th scope=col>&lt;chr&gt;</th><th scope=col>&lt;int&gt;</th></tr>\n",
       "</thead>\n",
       "<tbody>\n",
       "\t<tr><th scope=row>1</th><td>2.600000</td><td>0.000000</td><td>0.5084757</td><td>A</td><td>1</td></tr>\n",
       "\t<tr><th scope=row>2</th><td>2.803427</td><td>2.507034</td><td>0.5729461</td><td>A</td><td>1</td></tr>\n",
       "\t<tr><th scope=row>3</th><td>2.806266</td><td>2.528363</td><td>0.6381378</td><td>A</td><td>1</td></tr>\n",
       "\t<tr><th scope=row>4</th><td>2.821385</td><td>2.658041</td><td>0.6787909</td><td>A</td><td>1</td></tr>\n",
       "\t<tr><th scope=row>5</th><td>2.844165</td><td>2.658121</td><td>0.7080204</td><td>A</td><td>1</td></tr>\n",
       "\t<tr><th scope=row>6</th><td>2.854990</td><td>2.661139</td><td>0.7822593</td><td>A</td><td>1</td></tr>\n",
       "</tbody>\n",
       "</table>\n"
      ],
      "text/latex": [
       "A data.frame: 6 × 5\n",
       "\\begin{tabular}{r|lllll}\n",
       "  & weight & eggs & age & diet & wk\\\\\n",
       "  & <dbl> & <dbl> & <dbl> & <chr> & <int>\\\\\n",
       "\\hline\n",
       "\t1 & 2.600000 & 0.000000 & 0.5084757 & A & 1\\\\\n",
       "\t2 & 2.803427 & 2.507034 & 0.5729461 & A & 1\\\\\n",
       "\t3 & 2.806266 & 2.528363 & 0.6381378 & A & 1\\\\\n",
       "\t4 & 2.821385 & 2.658041 & 0.6787909 & A & 1\\\\\n",
       "\t5 & 2.844165 & 2.658121 & 0.7080204 & A & 1\\\\\n",
       "\t6 & 2.854990 & 2.661139 & 0.7822593 & A & 1\\\\\n",
       "\\end{tabular}\n"
      ],
      "text/markdown": [
       "\n",
       "A data.frame: 6 × 5\n",
       "\n",
       "| <!--/--> | weight &lt;dbl&gt; | eggs &lt;dbl&gt; | age &lt;dbl&gt; | diet &lt;chr&gt; | wk &lt;int&gt; |\n",
       "|---|---|---|---|---|---|\n",
       "| 1 | 2.600000 | 0.000000 | 0.5084757 | A | 1 |\n",
       "| 2 | 2.803427 | 2.507034 | 0.5729461 | A | 1 |\n",
       "| 3 | 2.806266 | 2.528363 | 0.6381378 | A | 1 |\n",
       "| 4 | 2.821385 | 2.658041 | 0.6787909 | A | 1 |\n",
       "| 5 | 2.844165 | 2.658121 | 0.7080204 | A | 1 |\n",
       "| 6 | 2.854990 | 2.661139 | 0.7822593 | A | 1 |\n",
       "\n"
      ],
      "text/plain": [
       "  weight   eggs     age       diet wk\n",
       "1 2.600000 0.000000 0.5084757 A    1 \n",
       "2 2.803427 2.507034 0.5729461 A    1 \n",
       "3 2.806266 2.528363 0.6381378 A    1 \n",
       "4 2.821385 2.658041 0.6787909 A    1 \n",
       "5 2.844165 2.658121 0.7080204 A    1 \n",
       "6 2.854990 2.661139 0.7822593 A    1 "
      ]
     },
     "metadata": {},
     "output_type": "display_data"
    },
    {
     "data": {
      "text/html": [
       "<table class=\"dataframe\">\n",
       "<caption>A data.frame: 3 × 2</caption>\n",
       "<thead>\n",
       "\t<tr><th scope=col>Diet</th><th scope=col>x</th></tr>\n",
       "\t<tr><th scope=col>&lt;chr&gt;</th><th scope=col>&lt;dbl[,6]&gt;</th></tr>\n",
       "</thead>\n",
       "<tbody>\n",
       "\t<tr><td>A</td><td>2.6, 3.276128, 3.771662, 3.799589, 4.342516, 5.823751</td></tr>\n",
       "\t<tr><td>B</td><td>2.6, 3.123751, 3.559684, 3.580205, 4.077164, 5.199313</td></tr>\n",
       "\t<tr><td>C</td><td>2.6, 3.085652, 3.486712, 3.529554, 3.952332, 4.917616</td></tr>\n",
       "</tbody>\n",
       "</table>\n"
      ],
      "text/latex": [
       "A data.frame: 3 × 2\n",
       "\\begin{tabular}{ll}\n",
       " Diet & x\\\\\n",
       " <chr> & <dbl{[},6{]}>\\\\\n",
       "\\hline\n",
       "\t A & 2.6, 3.276128, 3.771662, 3.799589, 4.342516, 5.823751\\\\\n",
       "\t B & 2.6, 3.123751, 3.559684, 3.580205, 4.077164, 5.199313\\\\\n",
       "\t C & 2.6, 3.085652, 3.486712, 3.529554, 3.952332, 4.917616\\\\\n",
       "\\end{tabular}\n"
      ],
      "text/markdown": [
       "\n",
       "A data.frame: 3 × 2\n",
       "\n",
       "| Diet &lt;chr&gt; | x &lt;dbl[,6]&gt; |\n",
       "|---|---|\n",
       "| A | 2.6, 3.276128, 3.771662, 3.799589, 4.342516, 5.823751 |\n",
       "| B | 2.6, 3.123751, 3.559684, 3.580205, 4.077164, 5.199313 |\n",
       "| C | 2.6, 3.085652, 3.486712, 3.529554, 3.952332, 4.917616 |\n",
       "\n"
      ],
      "text/plain": [
       "  Diet x                                                    \n",
       "1 A    2.6, 3.276128, 3.771662, 3.799589, 4.342516, 5.823751\n",
       "2 B    2.6, 3.123751, 3.559684, 3.580205, 4.077164, 5.199313\n",
       "3 C    2.6, 3.085652, 3.486712, 3.529554, 3.952332, 4.917616"
      ]
     },
     "metadata": {},
     "output_type": "display_data"
    },
    {
     "data": {
      "text/html": [
       "<table class=\"dataframe\">\n",
       "<caption>A data.frame: 3 × 2</caption>\n",
       "<thead>\n",
       "\t<tr><th scope=col>Diet</th><th scope=col>x</th></tr>\n",
       "\t<tr><th scope=col>&lt;chr&gt;</th><th scope=col>&lt;dbl[,6]&gt;</th></tr>\n",
       "</thead>\n",
       "<tbody>\n",
       "\t<tr><td>A</td><td>0, 3.438662, 4.258990, 4.278067, 5.240090, 6</td></tr>\n",
       "\t<tr><td>B</td><td>0, 1.591892, 2.797533, 2.810423, 4.136105, 6</td></tr>\n",
       "\t<tr><td>C</td><td>0, 2.443870, 3.240262, 3.281423, 4.255641, 6</td></tr>\n",
       "</tbody>\n",
       "</table>\n"
      ],
      "text/latex": [
       "A data.frame: 3 × 2\n",
       "\\begin{tabular}{ll}\n",
       " Diet & x\\\\\n",
       " <chr> & <dbl{[},6{]}>\\\\\n",
       "\\hline\n",
       "\t A & 0, 3.438662, 4.258990, 4.278067, 5.240090, 6\\\\\n",
       "\t B & 0, 1.591892, 2.797533, 2.810423, 4.136105, 6\\\\\n",
       "\t C & 0, 2.443870, 3.240262, 3.281423, 4.255641, 6\\\\\n",
       "\\end{tabular}\n"
      ],
      "text/markdown": [
       "\n",
       "A data.frame: 3 × 2\n",
       "\n",
       "| Diet &lt;chr&gt; | x &lt;dbl[,6]&gt; |\n",
       "|---|---|\n",
       "| A | 0, 3.438662, 4.258990, 4.278067, 5.240090, 6 |\n",
       "| B | 0, 1.591892, 2.797533, 2.810423, 4.136105, 6 |\n",
       "| C | 0, 2.443870, 3.240262, 3.281423, 4.255641, 6 |\n",
       "\n"
      ],
      "text/plain": [
       "  Diet x                                           \n",
       "1 A    0, 3.438662, 4.258990, 4.278067, 5.240090, 6\n",
       "2 B    0, 1.591892, 2.797533, 2.810423, 4.136105, 6\n",
       "3 C    0, 2.443870, 3.240262, 3.281423, 4.255641, 6"
      ]
     },
     "metadata": {},
     "output_type": "display_data"
    },
    {
     "data": {
      "text/html": [
       "<table class=\"dataframe\">\n",
       "<caption>A data.frame: 3 × 2</caption>\n",
       "<thead>\n",
       "\t<tr><th scope=col>Diet</th><th scope=col>x</th></tr>\n",
       "\t<tr><th scope=col>&lt;chr&gt;</th><th scope=col>&lt;dbl[,6]&gt;</th></tr>\n",
       "</thead>\n",
       "<tbody>\n",
       "\t<tr><td>A</td><td>0.5084757, 1.042339, 1.483718, 1.472624, 1.843465, 2.437299</td></tr>\n",
       "\t<tr><td>B</td><td>2.0094125, 2.478601, 2.840563, 2.903601, 3.371812, 3.949596</td></tr>\n",
       "\t<tr><td>C</td><td>1.5185614, 2.068469, 2.498449, 2.539413, 3.032200, 3.484493</td></tr>\n",
       "</tbody>\n",
       "</table>\n"
      ],
      "text/latex": [
       "A data.frame: 3 × 2\n",
       "\\begin{tabular}{ll}\n",
       " Diet & x\\\\\n",
       " <chr> & <dbl{[},6{]}>\\\\\n",
       "\\hline\n",
       "\t A & 0.5084757, 1.042339, 1.483718, 1.472624, 1.843465, 2.437299\\\\\n",
       "\t B & 2.0094125, 2.478601, 2.840563, 2.903601, 3.371812, 3.949596\\\\\n",
       "\t C & 1.5185614, 2.068469, 2.498449, 2.539413, 3.032200, 3.484493\\\\\n",
       "\\end{tabular}\n"
      ],
      "text/markdown": [
       "\n",
       "A data.frame: 3 × 2\n",
       "\n",
       "| Diet &lt;chr&gt; | x &lt;dbl[,6]&gt; |\n",
       "|---|---|\n",
       "| A | 0.5084757, 1.042339, 1.483718, 1.472624, 1.843465, 2.437299 |\n",
       "| B | 2.0094125, 2.478601, 2.840563, 2.903601, 3.371812, 3.949596 |\n",
       "| C | 1.5185614, 2.068469, 2.498449, 2.539413, 3.032200, 3.484493 |\n",
       "\n"
      ],
      "text/plain": [
       "  Diet x                                                          \n",
       "1 A    0.5084757, 1.042339, 1.483718, 1.472624, 1.843465, 2.437299\n",
       "2 B    2.0094125, 2.478601, 2.840563, 2.903601, 3.371812, 3.949596\n",
       "3 C    1.5185614, 2.068469, 2.498449, 2.539413, 3.032200, 3.484493"
      ]
     },
     "metadata": {},
     "output_type": "display_data"
    }
   ],
   "source": [
    "library(ggplot2)\n",
    "\n",
    "# Load the data\n",
    "chickens <- read.csv(\"chickens.csv\")\n",
    "\n",
    "# Display the first few instances of the dataset\n",
    "head(chickens)\n",
    "\n",
    "# Calculate some weight, eggs, and age statistics according to diet\n",
    "aggregate(chickens$weight, by=list(Diet=chickens$diet), summary)\n",
    "aggregate(chickens$eggs, by=list(Diet=chickens$diet), summary)\n",
    "aggregate(chickens$age, by=list(Diet=chickens$diet), summary)"
   ]
  },
  {
   "cell_type": "markdown",
   "metadata": {
    "vscode": {
     "languageId": "r"
    }
   },
   "source": [
    "# Visualizing"
   ]
  },
  {
   "cell_type": "markdown",
   "metadata": {
    "vscode": {
     "languageId": "r"
    }
   },
   "source": [
    "With a histogram. The ages roughly seem to be evenly distributed:"
   ]
  },
  {
   "cell_type": "code",
   "execution_count": 3,
   "metadata": {
    "vscode": {
     "languageId": "r"
    }
   },
   "outputs": [
    {
     "data": {
      "image/png": "[encoded data removed]",
      "text/plain": [
       "Plot with title \"Histogram of Chicken Age distribution\""
      ]
     },
     "metadata": {
      "image/png": {
       "height": 420,
       "width": 420
      }
     },
     "output_type": "display_data"
    }
   ],
   "source": [
    "hist(chickens$age, breaks=15,\n",
    "     main=\"Histogram of Chicken Age distribution\", xlab=\"Chicken Age (weeks)\")"
   ]
  },
  {
   "cell_type": "markdown",
   "metadata": {
    "vscode": {
     "languageId": "r"
    }
   },
   "source": [
    "With a boxplot"
   ]
  },
  {
   "cell_type": "code",
   "execution_count": 5,
   "metadata": {
    "vscode": {
     "languageId": "r"
    }
   },
   "outputs": [
    {
     "data": {
      "image/png": "[encoded data removed]",
      "text/plain": [
       "Plot with title \"Distribution of ages\""
      ]
     },
     "metadata": {
      "image/png": {
       "height": 420,
       "width": 420
      }
     },
     "output_type": "display_data"
    }
   ],
   "source": [
    "boxplot(chickens[,\"age\"], main=\"Distribution of ages\")"
   ]
  },
  {
   "cell_type": "markdown",
   "metadata": {},
   "source": [
    "Let's try different aggregations:"
   ]
  },
  {
   "cell_type": "code",
   "execution_count": 6,
   "metadata": {
    "vscode": {
     "languageId": "r"
    }
   },
   "outputs": [
    {
     "data": {
      "image/png": "[encoded data removed]",
      "text/plain": [
       "plot without title"
      ]
     },
     "metadata": {
      "image/png": {
       "height": 420,
       "width": 420
      }
     },
     "output_type": "display_data"
    }
   ],
   "source": [
    "# A. Average weight per diet. Maybe diet A could be having a positive effect...\n",
    "\n",
    "agg_weights = aggregate(chickens$weight,\n",
    "                        by=list(chickens$wk, chickens$diet), mean)\n",
    "\n",
    "colnames(agg_weights) = c(\"wk\", \"diet\", \"avg_weight\")\n",
    "\n",
    "ggplot(data=agg_weights) +\n",
    "  geom_line(aes(x=wk, y=avg_weight, color=diet)) + \n",
    "  ggtitle(\"Distribution of chicken's weight according to diet\") +\n",
    "  ylab(\"Frequency\") +\n",
    "  scale_x_discrete(labels=seq(1, 12), name=\"Weeks\")"
   ]
  },
  {
   "cell_type": "code",
   "execution_count": 7,
   "metadata": {
    "vscode": {
     "languageId": "r"
    }
   },
   "outputs": [
    {
     "data": {
      "image/png": "[encoded data removed]",
      "text/plain": [
       "plot without title"
      ]
     },
     "metadata": {
      "image/png": {
       "height": 420,
       "width": 420
      }
     },
     "output_type": "display_data"
    }
   ],
   "source": [
    "# B. Number of eggs per diet.\n",
    "# Diet A produces at least at least an egg more per week on average.\n",
    "\n",
    "# Could be a little too good to be true, though...\n",
    "\n",
    "agg_eggs <- aggregate(chickens$eggs, by=list(chickens$wk, chickens$diet), mean)\n",
    "colnames(agg_eggs) <- c(\"wk\", \"diet\", \"avg_eggs\")\n",
    "\n",
    "ggplot(data=agg_eggs) +\n",
    "  geom_line(aes(x=wk, y=avg_eggs, color=diet)) +\n",
    "  ggtitle(\"Distribution of chicken's eggs according to diet\") +\n",
    "  ylab(\"Frequency\") +\n",
    "  scale_x_discrete(labels=seq(1, 12), name=\"Weeks\")"
   ]
  },
  {
   "cell_type": "code",
   "execution_count": 9,
   "metadata": {
    "vscode": {
     "languageId": "r"
    }
   },
   "outputs": [
    {
     "data": {
      "text/html": [
       "<table class=\"dataframe\">\n",
       "<caption>A data.frame: 3 × 2</caption>\n",
       "<thead>\n",
       "\t<tr><th scope=col>Diet</th><th scope=col>x</th></tr>\n",
       "\t<tr><th scope=col>&lt;chr&gt;</th><th scope=col>&lt;dbl&gt;</th></tr>\n",
       "</thead>\n",
       "<tbody>\n",
       "\t<tr><td>A</td><td>1.472624</td></tr>\n",
       "\t<tr><td>B</td><td>2.903601</td></tr>\n",
       "\t<tr><td>C</td><td>2.539413</td></tr>\n",
       "</tbody>\n",
       "</table>\n"
      ],
      "text/latex": [
       "A data.frame: 3 × 2\n",
       "\\begin{tabular}{ll}\n",
       " Diet & x\\\\\n",
       " <chr> & <dbl>\\\\\n",
       "\\hline\n",
       "\t A & 1.472624\\\\\n",
       "\t B & 2.903601\\\\\n",
       "\t C & 2.539413\\\\\n",
       "\\end{tabular}\n"
      ],
      "text/markdown": [
       "\n",
       "A data.frame: 3 × 2\n",
       "\n",
       "| Diet &lt;chr&gt; | x &lt;dbl&gt; |\n",
       "|---|---|\n",
       "| A | 1.472624 |\n",
       "| B | 2.903601 |\n",
       "| C | 2.539413 |\n",
       "\n"
      ],
      "text/plain": [
       "  Diet x       \n",
       "1 A    1.472624\n",
       "2 B    2.903601\n",
       "3 C    2.539413"
      ]
     },
     "metadata": {},
     "output_type": "display_data"
    }
   ],
   "source": [
    "# C. Ages per diet\n",
    "\n",
    "agg_age <- aggregate(chickens$age, by=list(Diet=chickens$diet), mean)\n",
    "agg_age"
   ]
  },
  {
   "cell_type": "markdown",
   "metadata": {
    "vscode": {
     "languageId": "r"
    }
   },
   "source": [
    "Mean age of group A and group B are significantly different!"
   ]
  },
  {
   "cell_type": "markdown",
   "metadata": {
    "vscode": {
     "languageId": "r"
    }
   },
   "source": [
    "Now a scatterplot with eggs, age and diet. As chickens get older, eggs decrease.\n",
    "The bulk of diet A is also composed of younger chickens."
   ]
  },
  {
   "cell_type": "code",
   "execution_count": 10,
   "metadata": {
    "vscode": {
     "languageId": "r"
    }
   },
   "outputs": [
    {
     "data": {
      "image/png": "[encoded data removed]",
      "text/plain": [
       "plot without title"
      ]
     },
     "metadata": {
      "image/png": {
       "height": 420,
       "width": 420
      }
     },
     "output_type": "display_data"
    }
   ],
   "source": [
    "ggplot(data=chickens) +\n",
    "  geom_point(aes(x=age, y=eggs, color=diet)) +\n",
    "  ggtitle(\"Eggs produced by chickens according to age and diet\") +\n",
    "  xlab(\"Age (weeks)\") + ylab(\"Eggs\")"
   ]
  },
  {
   "cell_type": "markdown",
   "metadata": {
    "vscode": {
     "languageId": "r"
    }
   },
   "source": [
    "A boxplot of the ages of diet groups. While it's theoretically possible that there's a link between diet and eggs produced, it's inconclusive with this dataset."
   ]
  },
  {
   "cell_type": "code",
   "execution_count": 11,
   "metadata": {
    "vscode": {
     "languageId": "r"
    }
   },
   "outputs": [
    {
     "data": {
      "image/png": "[encoded data removed]",
      "text/plain": [
       "Plot with title \"Age distribution by diet\""
      ]
     },
     "metadata": {
      "image/png": {
       "height": 420,
       "width": 420
      }
     },
     "output_type": "display_data"
    }
   ],
   "source": [
    "boxplot(chickens[chickens$diet == \"A\", \"age\"],\n",
    "        chickens[chickens$diet == \"B\", \"age\"],\n",
    "        chickens[chickens$diet == \"C\", \"age\"],\n",
    "        names = c(\"Diet A\", \"Diet B\", \"Diet C\"),\n",
    "        main = \"Age distribution by diet\")"
   ]
  }
 ],
 "metadata": {
  "kernelspec": {
   "display_name": "R",
   "language": "R",
   "name": "ir"
  },
  "language_info": {
   "codemirror_mode": "r",
   "file_extension": ".r",
   "mimetype": "text/x-r-source",
   "name": "R",
   "pygments_lexer": "r",
   "version": "4.3.2"
  }
 },
 "nbformat": 4,
 "nbformat_minor": 2
}
