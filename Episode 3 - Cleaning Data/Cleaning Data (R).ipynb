{
 "cells": [
  {
   "cell_type": "markdown",
   "metadata": {},
   "source": [
    "Data is filthy."
   ]
  },
  {
   "cell_type": "markdown",
   "metadata": {},
   "source": [
    "# Extraction, first look"
   ]
  },
  {
   "cell_type": "code",
   "execution_count": 3,
   "metadata": {
    "vscode": {
     "languageId": "r"
    }
   },
   "outputs": [
    {
     "data": {
      "text/plain": [
       "   Company          Specific.Bean.Origin      REF        Review.Date  \n",
       " Length:1852        Length:1852          Min.   :   5   Min.   :2006  \n",
       " Class :character   Class :character     1st Qu.: 600   1st Qu.:2010  \n",
       " Mode  :character   Mode  :character     Median :1099   Median :2013  \n",
       "                                         Mean   :1065   Mean   :2012  \n",
       "                                         3rd Qu.:1546   3rd Qu.:2015  \n",
       "                                         Max.   :2008   Max.   :2017  \n",
       "                                                                      \n",
       " Cocoa.Percent   Company.Location       Rating       Bean.Type        \n",
       " Min.   : 42.0   Length:1852        Min.   :1.000   Length:1852       \n",
       " 1st Qu.: 70.0   Class :character   1st Qu.:3.000   Class :character  \n",
       " Median : 70.0   Mode  :character   Median :3.250   Mode  :character  \n",
       " Mean   : 71.7                      Mean   :3.265                     \n",
       " 3rd Qu.: 75.0                      3rd Qu.:3.500                     \n",
       " Max.   :100.0                      Max.   :5.000                     \n",
       "                                    NA's   :265                       \n",
       " Broad.Bean.Origin    Bar.Price    \n",
       " Length:1852        Min.   :1.004  \n",
       " Class :character   1st Qu.:3.278  \n",
       " Mode  :character   Median :5.411  \n",
       "                    Mean   :5.455  \n",
       "                    3rd Qu.:7.654  \n",
       "                    Max.   :9.995  \n",
       "                    NA's   :556    "
      ]
     },
     "metadata": {},
     "output_type": "display_data"
    }
   ],
   "source": [
    "library(\"dplyr\")\n",
    "\n",
    "choco <- read.csv(\"choco_wprice.csv\", stringsAsFactors = FALSE)\n",
    "\n",
    "summary(choco)"
   ]
  },
  {
   "cell_type": "markdown",
   "metadata": {},
   "source": [
    "# Transformation"
   ]
  },
  {
   "cell_type": "markdown",
   "metadata": {},
   "source": [
    " • Deleting missing values"
   ]
  },
  {
   "cell_type": "code",
   "execution_count": 3,
   "metadata": {
    "vscode": {
     "languageId": "r"
    }
   },
   "outputs": [
    {
     "name": "stdout",
     "output_type": "stream",
     "text": [
      "             Company Specific.Bean.Origin                  REF \n",
      "                   0                    0                    0 \n",
      "         Review.Date        Cocoa.Percent     Company.Location \n",
      "                   0                    0                    0 \n",
      "              Rating            Bean.Type    Broad.Bean.Origin \n",
      "                 265                  938                   74 \n",
      "           Bar.Price \n",
      "                 556 \n"
     ]
    }
   ],
   "source": [
    "# Let's see how many missing values per attribute we have.\n",
    "\n",
    "missing_values_count <- sapply(\n",
    "  choco, function(x) sum(x == \"\" | is.na(x))\n",
    ") # That is, the sum of every blank or N/A value\n",
    "\n",
    "print(missing_values_count)"
   ]
  },
  {
   "cell_type": "code",
   "execution_count": 4,
   "metadata": {
    "vscode": {
     "languageId": "r"
    }
   },
   "outputs": [
    {
     "name": "stdout",
     "output_type": "stream",
     "text": [
      "             Company Specific.Bean.Origin                  REF \n",
      "           0.0000000            0.0000000            0.0000000 \n",
      "         Review.Date        Cocoa.Percent     Company.Location \n",
      "           0.0000000            0.0000000            0.0000000 \n",
      "              Rating            Bean.Type    Broad.Bean.Origin \n",
      "           0.1430886            0.5064795            0.0399568 \n",
      "           Bar.Price \n",
      "           0.3002160 \n"
     ]
    }
   ],
   "source": [
    "# Now, let's see the proportion of these values.\n",
    "\n",
    "# Rule of thumb, an attribute with > 50, maybe 60% missing data is a candidate for deletion in a static dataset\n",
    "\n",
    "missing_values_proportion <- sapply(\n",
    "  choco, function(x) sum(x == \"\" | is.na(x)) / nrow(choco)\n",
    ")\n",
    "\n",
    "print(missing_values_proportion)"
   ]
  },
  {
   "cell_type": "code",
   "execution_count": 5,
   "metadata": {
    "vscode": {
     "languageId": "r"
    }
   },
   "outputs": [],
   "source": [
    "# For the sake of practice, we'll delete attributes missing 50% or more values\n",
    "\n",
    "atts_to_delete <- which(missing_values_proportion >= 0.5)\n",
    "choco <- choco[, -atts_to_delete]"
   ]
  },
  {
   "cell_type": "markdown",
   "metadata": {
    "vscode": {
     "languageId": "r"
    }
   },
   "source": [
    " • Replacing missing values"
   ]
  },
  {
   "cell_type": "code",
   "execution_count": 11,
   "metadata": {
    "vscode": {
     "languageId": "r"
    }
   },
   "outputs": [
    {
     "data": {
      "text/html": [
       "<table class=\"dataframe\">\n",
       "<caption>A data.frame: 6 × 9</caption>\n",
       "<thead>\n",
       "\t<tr><th></th><th scope=col>Company</th><th scope=col>Specific.Bean.Origin</th><th scope=col>REF</th><th scope=col>Review.Date</th><th scope=col>Cocoa.Percent</th><th scope=col>Company.Location</th><th scope=col>Rating</th><th scope=col>Broad.Bean.Origin</th><th scope=col>Bar.Price</th></tr>\n",
       "\t<tr><th></th><th scope=col>&lt;chr&gt;</th><th scope=col>&lt;chr&gt;</th><th scope=col>&lt;int&gt;</th><th scope=col>&lt;int&gt;</th><th scope=col>&lt;dbl&gt;</th><th scope=col>&lt;chr&gt;</th><th scope=col>&lt;dbl&gt;</th><th scope=col>&lt;chr&gt;</th><th scope=col>&lt;dbl&gt;</th></tr>\n",
       "</thead>\n",
       "<tbody>\n",
       "\t<tr><th scope=row>1</th><td>A. Morin</td><td>Agua Grande</td><td>1876</td><td>2016</td><td>63</td><td>France</td><td>3.75</td><td>Sao Tome  </td><td>2.535807</td></tr>\n",
       "\t<tr><th scope=row>2</th><td>A. Morin</td><td>Kpime      </td><td>1676</td><td>2015</td><td>70</td><td>France</td><td>  NA</td><td>Togo      </td><td>5.997822</td></tr>\n",
       "\t<tr><th scope=row>3</th><td>A. Morin</td><td>Panama     </td><td>1011</td><td>2013</td><td>70</td><td>France</td><td>  NA</td><td>Panama    </td><td>5.455234</td></tr>\n",
       "\t<tr><th scope=row>4</th><td>A. Morin</td><td>Madagascar </td><td>1011</td><td>2013</td><td>70</td><td>France</td><td>3.00</td><td>Madagascar</td><td>7.014562</td></tr>\n",
       "\t<tr><th scope=row>5</th><td>A. Morin</td><td>Brazil     </td><td>1011</td><td>2013</td><td>70</td><td>France</td><td>3.25</td><td>Brazil    </td><td>5.889096</td></tr>\n",
       "\t<tr><th scope=row>6</th><td>A. Morin</td><td>Equateur   </td><td>1011</td><td>2013</td><td>70</td><td>France</td><td>3.75</td><td>Ecuador   </td><td>2.836863</td></tr>\n",
       "</tbody>\n",
       "</table>\n"
      ],
      "text/latex": [
       "A data.frame: 6 × 9\n",
       "\\begin{tabular}{r|lllllllll}\n",
       "  & Company & Specific.Bean.Origin & REF & Review.Date & Cocoa.Percent & Company.Location & Rating & Broad.Bean.Origin & Bar.Price\\\\\n",
       "  & <chr> & <chr> & <int> & <int> & <dbl> & <chr> & <dbl> & <chr> & <dbl>\\\\\n",
       "\\hline\n",
       "\t1 & A. Morin & Agua Grande & 1876 & 2016 & 63 & France & 3.75 & Sao Tome   & 2.535807\\\\\n",
       "\t2 & A. Morin & Kpime       & 1676 & 2015 & 70 & France &   NA & Togo       & 5.997822\\\\\n",
       "\t3 & A. Morin & Panama      & 1011 & 2013 & 70 & France &   NA & Panama     & 5.455234\\\\\n",
       "\t4 & A. Morin & Madagascar  & 1011 & 2013 & 70 & France & 3.00 & Madagascar & 7.014562\\\\\n",
       "\t5 & A. Morin & Brazil      & 1011 & 2013 & 70 & France & 3.25 & Brazil     & 5.889096\\\\\n",
       "\t6 & A. Morin & Equateur    & 1011 & 2013 & 70 & France & 3.75 & Ecuador    & 2.836863\\\\\n",
       "\\end{tabular}\n"
      ],
      "text/markdown": [
       "\n",
       "A data.frame: 6 × 9\n",
       "\n",
       "| <!--/--> | Company &lt;chr&gt; | Specific.Bean.Origin &lt;chr&gt; | REF &lt;int&gt; | Review.Date &lt;int&gt; | Cocoa.Percent &lt;dbl&gt; | Company.Location &lt;chr&gt; | Rating &lt;dbl&gt; | Broad.Bean.Origin &lt;chr&gt; | Bar.Price &lt;dbl&gt; |\n",
       "|---|---|---|---|---|---|---|---|---|---|\n",
       "| 1 | A. Morin | Agua Grande | 1876 | 2016 | 63 | France | 3.75 | Sao Tome   | 2.535807 |\n",
       "| 2 | A. Morin | Kpime       | 1676 | 2015 | 70 | France |   NA | Togo       | 5.997822 |\n",
       "| 3 | A. Morin | Panama      | 1011 | 2013 | 70 | France |   NA | Panama     | 5.455234 |\n",
       "| 4 | A. Morin | Madagascar  | 1011 | 2013 | 70 | France | 3.00 | Madagascar | 7.014562 |\n",
       "| 5 | A. Morin | Brazil      | 1011 | 2013 | 70 | France | 3.25 | Brazil     | 5.889096 |\n",
       "| 6 | A. Morin | Equateur    | 1011 | 2013 | 70 | France | 3.75 | Ecuador    | 2.836863 |\n",
       "\n"
      ],
      "text/plain": [
       "  Company  Specific.Bean.Origin REF  Review.Date Cocoa.Percent Company.Location\n",
       "1 A. Morin Agua Grande          1876 2016        63            France          \n",
       "2 A. Morin Kpime                1676 2015        70            France          \n",
       "3 A. Morin Panama               1011 2013        70            France          \n",
       "4 A. Morin Madagascar           1011 2013        70            France          \n",
       "5 A. Morin Brazil               1011 2013        70            France          \n",
       "6 A. Morin Equateur             1011 2013        70            France          \n",
       "  Rating Broad.Bean.Origin Bar.Price\n",
       "1 3.75   Sao Tome          2.535807 \n",
       "2   NA   Togo              5.997822 \n",
       "3   NA   Panama            5.455234 \n",
       "4 3.00   Madagascar        7.014562 \n",
       "5 3.25   Brazil            5.889096 \n",
       "6 3.75   Ecuador           2.836863 "
      ]
     },
     "metadata": {},
     "output_type": "display_data"
    }
   ],
   "source": [
    "# Are there any attributes whose values can be estimated?\n",
    "\n",
    "# We could replace with 0, replace with mean, or replace with median.\n",
    "\n",
    "# For Bar.Price, the mean is the most proper replacement:\n",
    "\n",
    "choco$Bar.Price[is.na(choco$Bar.Price)] <- mean(choco$Bar.Price, na.rm = TRUE)\n",
    "\n",
    "head(choco)"
   ]
  },
  {
   "cell_type": "markdown",
   "metadata": {
    "vscode": {
     "languageId": "r"
    }
   },
   "source": [
    " • Replacing missing values stratigraphically"
   ]
  },
  {
   "cell_type": "code",
   "execution_count": 34,
   "metadata": {
    "vscode": {
     "languageId": "r"
    }
   },
   "outputs": [
    {
     "data": {
      "text/html": [
       "265"
      ],
      "text/latex": [
       "265"
      ],
      "text/markdown": [
       "265"
      ],
      "text/plain": [
       "[1] 265"
      ]
     },
     "metadata": {},
     "output_type": "display_data"
    },
    {
     "data": {
      "text/html": [
       "<table class=\"dataframe\">\n",
       "<caption>A data.frame: 5 × 1</caption>\n",
       "<thead>\n",
       "\t<tr><th scope=col>Rating</th></tr>\n",
       "\t<tr><th scope=col>&lt;dbl&gt;</th></tr>\n",
       "</thead>\n",
       "<tbody>\n",
       "\t<tr><td>3.75</td></tr>\n",
       "\t<tr><td>3.25</td></tr>\n",
       "\t<tr><td>3.50</td></tr>\n",
       "\t<tr><td>3.50</td></tr>\n",
       "\t<tr><td>3.75</td></tr>\n",
       "</tbody>\n",
       "</table>\n"
      ],
      "text/latex": [
       "A data.frame: 5 × 1\n",
       "\\begin{tabular}{l}\n",
       " Rating\\\\\n",
       " <dbl>\\\\\n",
       "\\hline\n",
       "\t 3.75\\\\\n",
       "\t 3.25\\\\\n",
       "\t 3.50\\\\\n",
       "\t 3.50\\\\\n",
       "\t 3.75\\\\\n",
       "\\end{tabular}\n"
      ],
      "text/markdown": [
       "\n",
       "A data.frame: 5 × 1\n",
       "\n",
       "| Rating &lt;dbl&gt; |\n",
       "|---|\n",
       "| 3.75 |\n",
       "| 3.25 |\n",
       "| 3.50 |\n",
       "| 3.50 |\n",
       "| 3.75 |\n",
       "\n"
      ],
      "text/plain": [
       "  Rating\n",
       "1 3.75  \n",
       "2 3.25  \n",
       "3 3.50  \n",
       "4 3.50  \n",
       "5 3.75  "
      ]
     },
     "metadata": {},
     "output_type": "display_data"
    }
   ],
   "source": [
    "sum(is.na(choco$Rating)) # Missing ratings\n",
    "\n",
    "# Estimating missing ratings according to median by company:\n",
    "\n",
    "per_comp = aggregate(choco$Rating, by=list(choco$Company), na.rm=TRUE, median)\n",
    "colnames(per_comp) = c(\"Company\", \"MRating\")\n",
    "\n",
    "# Replacing a few values manually\n",
    "\n",
    "choco$Rating[is.na(choco$Rating) & choco$Company == \"Vicuna\"] <- per_comp$Rating[per_comp$Company == \"Vicuna\"]\n",
    "choco$Rating[is.na(choco$Rating) & choco$Company == \"Zokoko\"] <- per_comp$Rating[per_comp$Company == \"Zokoko\"]\n",
    "choco$Rating[is.na(choco$Rating) & choco$Company == \"Videri\"] <- per_comp$Rating[per_comp$Company == \"Videri\"]\n",
    "\n",
    "\n",
    "choco %>% filter(Company == \"Zokoko\") %>% select(Rating)\n"
   ]
  },
  {
   "cell_type": "markdown",
   "metadata": {
    "vscode": {
     "languageId": "r"
    }
   },
   "source": [
    "# Checking out outliers"
   ]
  },
  {
   "cell_type": "markdown",
   "metadata": {
    "vscode": {
     "languageId": "r"
    }
   },
   "source": [
    "Boxplots show values more than three stdevs away from the median as outliers.\n",
    "\n",
    "Could these really be of extremely high/low quality or simply anomalies? Judgment call!"
   ]
  },
  {
   "cell_type": "code",
   "execution_count": 35,
   "metadata": {
    "vscode": {
     "languageId": "r"
    }
   },
   "outputs": [
    {
     "data": {
      "image/png": "[encoded data removed]",
      "text/plain": [
       "plot without title"
      ]
     },
     "metadata": {
      "image/png": {
       "height": 420,
       "width": 420
      }
     },
     "output_type": "display_data"
    }
   ],
   "source": [
    "boxplot(choco$Cocoa.Percent)"
   ]
  }
 ],
 "metadata": {
  "kernelspec": {
   "display_name": "R",
   "language": "R",
   "name": "ir"
  },
  "language_info": {
   "codemirror_mode": "r",
   "file_extension": ".r",
   "mimetype": "text/x-r-source",
   "name": "R",
   "pygments_lexer": "r",
   "version": "4.3.2"
  }
 },
 "nbformat": 4,
 "nbformat_minor": 2
}
