{
 "cells": [
  {
   "cell_type": "markdown",
   "metadata": {},
   "source": [
    "Data is filthy."
   ]
  },
  {
   "cell_type": "markdown",
   "metadata": {},
   "source": [
    "# Extraction, first look"
   ]
  },
  {
   "cell_type": "code",
   "execution_count": 16,
   "metadata": {},
   "outputs": [
    {
     "data": {
      "text/html": [
       "<div>\n",
       "<style scoped>\n",
       "    .dataframe tbody tr th:only-of-type {\n",
       "        vertical-align: middle;\n",
       "    }\n",
       "\n",
       "    .dataframe tbody tr th {\n",
       "        vertical-align: top;\n",
       "    }\n",
       "\n",
       "    .dataframe thead th {\n",
       "        text-align: right;\n",
       "    }\n",
       "</style>\n",
       "<table border=\"1\" class=\"dataframe\">\n",
       "  <thead>\n",
       "    <tr style=\"text-align: right;\">\n",
       "      <th></th>\n",
       "      <th>REF</th>\n",
       "      <th>Review.Date</th>\n",
       "      <th>Cocoa.Percent</th>\n",
       "      <th>Rating</th>\n",
       "      <th>Bar.Price</th>\n",
       "    </tr>\n",
       "  </thead>\n",
       "  <tbody>\n",
       "    <tr>\n",
       "      <th>count</th>\n",
       "      <td>1852.000000</td>\n",
       "      <td>1852.000000</td>\n",
       "      <td>1852.000000</td>\n",
       "      <td>1587.000000</td>\n",
       "      <td>1296.000000</td>\n",
       "    </tr>\n",
       "    <tr>\n",
       "      <th>mean</th>\n",
       "      <td>1065.007019</td>\n",
       "      <td>2012.469222</td>\n",
       "      <td>71.697354</td>\n",
       "      <td>3.264650</td>\n",
       "      <td>5.455234</td>\n",
       "    </tr>\n",
       "    <tr>\n",
       "      <th>std</th>\n",
       "      <td>568.299301</td>\n",
       "      <td>2.992810</td>\n",
       "      <td>6.260081</td>\n",
       "      <td>0.475335</td>\n",
       "      <td>2.569743</td>\n",
       "    </tr>\n",
       "    <tr>\n",
       "      <th>min</th>\n",
       "      <td>5.000000</td>\n",
       "      <td>2006.000000</td>\n",
       "      <td>42.000000</td>\n",
       "      <td>1.000000</td>\n",
       "      <td>1.004188</td>\n",
       "    </tr>\n",
       "    <tr>\n",
       "      <th>25%</th>\n",
       "      <td>600.000000</td>\n",
       "      <td>2010.000000</td>\n",
       "      <td>70.000000</td>\n",
       "      <td>3.000000</td>\n",
       "      <td>3.277589</td>\n",
       "    </tr>\n",
       "    <tr>\n",
       "      <th>50%</th>\n",
       "      <td>1099.000000</td>\n",
       "      <td>2013.000000</td>\n",
       "      <td>70.000000</td>\n",
       "      <td>3.250000</td>\n",
       "      <td>5.411294</td>\n",
       "    </tr>\n",
       "    <tr>\n",
       "      <th>75%</th>\n",
       "      <td>1546.000000</td>\n",
       "      <td>2015.000000</td>\n",
       "      <td>75.000000</td>\n",
       "      <td>3.500000</td>\n",
       "      <td>7.654216</td>\n",
       "    </tr>\n",
       "    <tr>\n",
       "      <th>max</th>\n",
       "      <td>2008.000000</td>\n",
       "      <td>2017.000000</td>\n",
       "      <td>100.000000</td>\n",
       "      <td>5.000000</td>\n",
       "      <td>9.994641</td>\n",
       "    </tr>\n",
       "  </tbody>\n",
       "</table>\n",
       "</div>"
      ],
      "text/plain": [
       "               REF  Review.Date  Cocoa.Percent       Rating    Bar.Price\n",
       "count  1852.000000  1852.000000    1852.000000  1587.000000  1296.000000\n",
       "mean   1065.007019  2012.469222      71.697354     3.264650     5.455234\n",
       "std     568.299301     2.992810       6.260081     0.475335     2.569743\n",
       "min       5.000000  2006.000000      42.000000     1.000000     1.004188\n",
       "25%     600.000000  2010.000000      70.000000     3.000000     3.277589\n",
       "50%    1099.000000  2013.000000      70.000000     3.250000     5.411294\n",
       "75%    1546.000000  2015.000000      75.000000     3.500000     7.654216\n",
       "max    2008.000000  2017.000000     100.000000     5.000000     9.994641"
      ]
     },
     "execution_count": 16,
     "metadata": {},
     "output_type": "execute_result"
    }
   ],
   "source": [
    "import pandas as pd\n",
    "\n",
    "df = pd.read_csv(\"choco_wprice.csv\", encoding = \"ANSI\")\n",
    "\n",
    "df.describe()"
   ]
  },
  {
   "cell_type": "markdown",
   "metadata": {},
   "source": [
    "# Transformation"
   ]
  },
  {
   "cell_type": "markdown",
   "metadata": {},
   "source": [
    " • Deleting missing values"
   ]
  },
  {
   "cell_type": "code",
   "execution_count": 17,
   "metadata": {},
   "outputs": [
    {
     "data": {
      "text/plain": [
       "Company                   0\n",
       "Specific.Bean.Origin      0\n",
       "REF                       0\n",
       "Review.Date               0\n",
       "Cocoa.Percent             0\n",
       "Company.Location          0\n",
       "Rating                  265\n",
       "Bean.Type               938\n",
       "Broad.Bean.Origin        74\n",
       "Bar.Price               556\n",
       "dtype: int64"
      ]
     },
     "execution_count": 17,
     "metadata": {},
     "output_type": "execute_result"
    }
   ],
   "source": [
    "# Let's see how many missing values per attribute we have.\n",
    "df.isnull().sum()"
   ]
  },
  {
   "cell_type": "code",
   "execution_count": 18,
   "metadata": {},
   "outputs": [
    {
     "name": "stdout",
     "output_type": "stream",
     "text": [
      "Company                 0.000000\n",
      "Specific.Bean.Origin    0.000000\n",
      "REF                     0.000000\n",
      "Review.Date             0.000000\n",
      "Cocoa.Percent           0.000000\n",
      "Company.Location        0.000000\n",
      "Rating                  0.143089\n",
      "Bean.Type               0.506479\n",
      "Broad.Bean.Origin       0.039957\n",
      "Bar.Price               0.300216\n",
      "dtype: float64\n"
     ]
    }
   ],
   "source": [
    "# Now, let's see the proportion of these values.\n",
    "# Rule of thumb, an attribute with > 50, maybe 60% missing data is a candidate for deletion in a static dataset\n",
    "\n",
    "missing_values_proportion = df.isnull().mean()\n",
    "missing_values_proportion = df.apply(lambda x: (x == \"\").sum() + x.isnull().sum()) / len(df)\n",
    "print(missing_values_proportion)"
   ]
  },
  {
   "cell_type": "code",
   "execution_count": 19,
   "metadata": {},
   "outputs": [
    {
     "data": {
      "text/html": [
       "<div>\n",
       "<style scoped>\n",
       "    .dataframe tbody tr th:only-of-type {\n",
       "        vertical-align: middle;\n",
       "    }\n",
       "\n",
       "    .dataframe tbody tr th {\n",
       "        vertical-align: top;\n",
       "    }\n",
       "\n",
       "    .dataframe thead th {\n",
       "        text-align: right;\n",
       "    }\n",
       "</style>\n",
       "<table border=\"1\" class=\"dataframe\">\n",
       "  <thead>\n",
       "    <tr style=\"text-align: right;\">\n",
       "      <th></th>\n",
       "      <th>Company</th>\n",
       "      <th>Specific.Bean.Origin</th>\n",
       "      <th>REF</th>\n",
       "      <th>Review.Date</th>\n",
       "      <th>Cocoa.Percent</th>\n",
       "      <th>Company.Location</th>\n",
       "      <th>Rating</th>\n",
       "      <th>Broad.Bean.Origin</th>\n",
       "      <th>Bar.Price</th>\n",
       "    </tr>\n",
       "  </thead>\n",
       "  <tbody>\n",
       "    <tr>\n",
       "      <th>0</th>\n",
       "      <td>A. Morin</td>\n",
       "      <td>Agua Grande</td>\n",
       "      <td>1876</td>\n",
       "      <td>2016</td>\n",
       "      <td>63.0</td>\n",
       "      <td>France</td>\n",
       "      <td>3.75</td>\n",
       "      <td>Sao Tome</td>\n",
       "      <td>2.535807</td>\n",
       "    </tr>\n",
       "    <tr>\n",
       "      <th>1</th>\n",
       "      <td>A. Morin</td>\n",
       "      <td>Kpime</td>\n",
       "      <td>1676</td>\n",
       "      <td>2015</td>\n",
       "      <td>70.0</td>\n",
       "      <td>France</td>\n",
       "      <td>NaN</td>\n",
       "      <td>Togo</td>\n",
       "      <td>5.997822</td>\n",
       "    </tr>\n",
       "    <tr>\n",
       "      <th>2</th>\n",
       "      <td>A. Morin</td>\n",
       "      <td>Panama</td>\n",
       "      <td>1011</td>\n",
       "      <td>2013</td>\n",
       "      <td>70.0</td>\n",
       "      <td>France</td>\n",
       "      <td>NaN</td>\n",
       "      <td>Panama</td>\n",
       "      <td>NaN</td>\n",
       "    </tr>\n",
       "    <tr>\n",
       "      <th>3</th>\n",
       "      <td>A. Morin</td>\n",
       "      <td>Madagascar</td>\n",
       "      <td>1011</td>\n",
       "      <td>2013</td>\n",
       "      <td>70.0</td>\n",
       "      <td>France</td>\n",
       "      <td>3.00</td>\n",
       "      <td>Madagascar</td>\n",
       "      <td>7.014562</td>\n",
       "    </tr>\n",
       "    <tr>\n",
       "      <th>4</th>\n",
       "      <td>A. Morin</td>\n",
       "      <td>Brazil</td>\n",
       "      <td>1011</td>\n",
       "      <td>2013</td>\n",
       "      <td>70.0</td>\n",
       "      <td>France</td>\n",
       "      <td>3.25</td>\n",
       "      <td>Brazil</td>\n",
       "      <td>5.889096</td>\n",
       "    </tr>\n",
       "  </tbody>\n",
       "</table>\n",
       "</div>"
      ],
      "text/plain": [
       "    Company Specific.Bean.Origin   REF  Review.Date  Cocoa.Percent  \\\n",
       "0  A. Morin          Agua Grande  1876         2016           63.0   \n",
       "1  A. Morin                Kpime  1676         2015           70.0   \n",
       "2  A. Morin               Panama  1011         2013           70.0   \n",
       "3  A. Morin           Madagascar  1011         2013           70.0   \n",
       "4  A. Morin               Brazil  1011         2013           70.0   \n",
       "\n",
       "  Company.Location  Rating Broad.Bean.Origin  Bar.Price  \n",
       "0           France    3.75          Sao Tome   2.535807  \n",
       "1           France     NaN              Togo   5.997822  \n",
       "2           France     NaN            Panama        NaN  \n",
       "3           France    3.00        Madagascar   7.014562  \n",
       "4           France    3.25            Brazil   5.889096  "
      ]
     },
     "execution_count": 19,
     "metadata": {},
     "output_type": "execute_result"
    }
   ],
   "source": [
    "# # For the sake of practice, we'll delete attributes missing 50% or more values\n",
    "\n",
    "# atts_to_delete <- which(missing_values_proportion >= 0.5)\n",
    "# choco <- choco[, -atts_to_delete]\n",
    "\n",
    "atts_to_delete = missing_values_proportion[missing_values_proportion >= 0.5].index\n",
    "df = df.drop(columns=atts_to_delete)"
   ]
  },
  {
   "cell_type": "markdown",
   "metadata": {
    "vscode": {
     "languageId": "r"
    }
   },
   "source": [
    " • Replacing missing values"
   ]
  },
  {
   "cell_type": "code",
   "execution_count": 11,
   "metadata": {},
   "outputs": [
    {
     "data": {
      "text/html": [
       "<table class=\"dataframe\">\n",
       "<caption>A data.frame: 6 × 9</caption>\n",
       "<thead>\n",
       "\t<tr><th></th><th scope=col>Company</th><th scope=col>Specific.Bean.Origin</th><th scope=col>REF</th><th scope=col>Review.Date</th><th scope=col>Cocoa.Percent</th><th scope=col>Company.Location</th><th scope=col>Rating</th><th scope=col>Broad.Bean.Origin</th><th scope=col>Bar.Price</th></tr>\n",
       "\t<tr><th></th><th scope=col>&lt;chr&gt;</th><th scope=col>&lt;chr&gt;</th><th scope=col>&lt;int&gt;</th><th scope=col>&lt;int&gt;</th><th scope=col>&lt;dbl&gt;</th><th scope=col>&lt;chr&gt;</th><th scope=col>&lt;dbl&gt;</th><th scope=col>&lt;chr&gt;</th><th scope=col>&lt;dbl&gt;</th></tr>\n",
       "</thead>\n",
       "<tbody>\n",
       "\t<tr><th scope=row>1</th><td>A. Morin</td><td>Agua Grande</td><td>1876</td><td>2016</td><td>63</td><td>France</td><td>3.75</td><td>Sao Tome  </td><td>2.535807</td></tr>\n",
       "\t<tr><th scope=row>2</th><td>A. Morin</td><td>Kpime      </td><td>1676</td><td>2015</td><td>70</td><td>France</td><td>  NA</td><td>Togo      </td><td>5.997822</td></tr>\n",
       "\t<tr><th scope=row>3</th><td>A. Morin</td><td>Panama     </td><td>1011</td><td>2013</td><td>70</td><td>France</td><td>  NA</td><td>Panama    </td><td>5.455234</td></tr>\n",
       "\t<tr><th scope=row>4</th><td>A. Morin</td><td>Madagascar </td><td>1011</td><td>2013</td><td>70</td><td>France</td><td>3.00</td><td>Madagascar</td><td>7.014562</td></tr>\n",
       "\t<tr><th scope=row>5</th><td>A. Morin</td><td>Brazil     </td><td>1011</td><td>2013</td><td>70</td><td>France</td><td>3.25</td><td>Brazil    </td><td>5.889096</td></tr>\n",
       "\t<tr><th scope=row>6</th><td>A. Morin</td><td>Equateur   </td><td>1011</td><td>2013</td><td>70</td><td>France</td><td>3.75</td><td>Ecuador   </td><td>2.836863</td></tr>\n",
       "</tbody>\n",
       "</table>\n"
      ],
      "text/latex": [
       "A data.frame: 6 × 9\n",
       "\\begin{tabular}{r|lllllllll}\n",
       "  & Company & Specific.Bean.Origin & REF & Review.Date & Cocoa.Percent & Company.Location & Rating & Broad.Bean.Origin & Bar.Price\\\\\n",
       "  & <chr> & <chr> & <int> & <int> & <dbl> & <chr> & <dbl> & <chr> & <dbl>\\\\\n",
       "\\hline\n",
       "\t1 & A. Morin & Agua Grande & 1876 & 2016 & 63 & France & 3.75 & Sao Tome   & 2.535807\\\\\n",
       "\t2 & A. Morin & Kpime       & 1676 & 2015 & 70 & France &   NA & Togo       & 5.997822\\\\\n",
       "\t3 & A. Morin & Panama      & 1011 & 2013 & 70 & France &   NA & Panama     & 5.455234\\\\\n",
       "\t4 & A. Morin & Madagascar  & 1011 & 2013 & 70 & France & 3.00 & Madagascar & 7.014562\\\\\n",
       "\t5 & A. Morin & Brazil      & 1011 & 2013 & 70 & France & 3.25 & Brazil     & 5.889096\\\\\n",
       "\t6 & A. Morin & Equateur    & 1011 & 2013 & 70 & France & 3.75 & Ecuador    & 2.836863\\\\\n",
       "\\end{tabular}\n"
      ],
      "text/markdown": [
       "\n",
       "A data.frame: 6 × 9\n",
       "\n",
       "| <!--/--> | Company &lt;chr&gt; | Specific.Bean.Origin &lt;chr&gt; | REF &lt;int&gt; | Review.Date &lt;int&gt; | Cocoa.Percent &lt;dbl&gt; | Company.Location &lt;chr&gt; | Rating &lt;dbl&gt; | Broad.Bean.Origin &lt;chr&gt; | Bar.Price &lt;dbl&gt; |\n",
       "|---|---|---|---|---|---|---|---|---|---|\n",
       "| 1 | A. Morin | Agua Grande | 1876 | 2016 | 63 | France | 3.75 | Sao Tome   | 2.535807 |\n",
       "| 2 | A. Morin | Kpime       | 1676 | 2015 | 70 | France |   NA | Togo       | 5.997822 |\n",
       "| 3 | A. Morin | Panama      | 1011 | 2013 | 70 | France |   NA | Panama     | 5.455234 |\n",
       "| 4 | A. Morin | Madagascar  | 1011 | 2013 | 70 | France | 3.00 | Madagascar | 7.014562 |\n",
       "| 5 | A. Morin | Brazil      | 1011 | 2013 | 70 | France | 3.25 | Brazil     | 5.889096 |\n",
       "| 6 | A. Morin | Equateur    | 1011 | 2013 | 70 | France | 3.75 | Ecuador    | 2.836863 |\n",
       "\n"
      ],
      "text/plain": [
       "  Company  Specific.Bean.Origin REF  Review.Date Cocoa.Percent Company.Location\n",
       "1 A. Morin Agua Grande          1876 2016        63            France          \n",
       "2 A. Morin Kpime                1676 2015        70            France          \n",
       "3 A. Morin Panama               1011 2013        70            France          \n",
       "4 A. Morin Madagascar           1011 2013        70            France          \n",
       "5 A. Morin Brazil               1011 2013        70            France          \n",
       "6 A. Morin Equateur             1011 2013        70            France          \n",
       "  Rating Broad.Bean.Origin Bar.Price\n",
       "1 3.75   Sao Tome          2.535807 \n",
       "2   NA   Togo              5.997822 \n",
       "3   NA   Panama            5.455234 \n",
       "4 3.00   Madagascar        7.014562 \n",
       "5 3.25   Brazil            5.889096 \n",
       "6 3.75   Ecuador           2.836863 "
      ]
     },
     "metadata": {},
     "output_type": "display_data"
    }
   ],
   "source": [
    "# Are there any attributes whose values can be estimated?\n",
    "\n",
    "# We could replace with 0, replace with mean, or replace with median.\n",
    "\n",
    "# For Bar.Price, the mean is the most proper replacement:\n",
    "\n",
    "# choco$Bar.Price[is.na(choco$Bar.Price)] <- mean(choco$Bar.Price, na.rm = TRUE)\n",
    "\n",
    "# head(choco)\n",
    "\n"
   ]
  },
  {
   "cell_type": "markdown",
   "metadata": {
    "vscode": {
     "languageId": "r"
    }
   },
   "source": [
    " • Replacing missing values stratigraphically"
   ]
  },
  {
   "cell_type": "code",
   "execution_count": 34,
   "metadata": {},
   "outputs": [
    {
     "data": {
      "text/html": [
       "265"
      ],
      "text/latex": [
       "265"
      ],
      "text/markdown": [
       "265"
      ],
      "text/plain": [
       "[1] 265"
      ]
     },
     "metadata": {},
     "output_type": "display_data"
    },
    {
     "data": {
      "text/html": [
       "<table class=\"dataframe\">\n",
       "<caption>A data.frame: 5 × 1</caption>\n",
       "<thead>\n",
       "\t<tr><th scope=col>Rating</th></tr>\n",
       "\t<tr><th scope=col>&lt;dbl&gt;</th></tr>\n",
       "</thead>\n",
       "<tbody>\n",
       "\t<tr><td>3.75</td></tr>\n",
       "\t<tr><td>3.25</td></tr>\n",
       "\t<tr><td>3.50</td></tr>\n",
       "\t<tr><td>3.50</td></tr>\n",
       "\t<tr><td>3.75</td></tr>\n",
       "</tbody>\n",
       "</table>\n"
      ],
      "text/latex": [
       "A data.frame: 5 × 1\n",
       "\\begin{tabular}{l}\n",
       " Rating\\\\\n",
       " <dbl>\\\\\n",
       "\\hline\n",
       "\t 3.75\\\\\n",
       "\t 3.25\\\\\n",
       "\t 3.50\\\\\n",
       "\t 3.50\\\\\n",
       "\t 3.75\\\\\n",
       "\\end{tabular}\n"
      ],
      "text/markdown": [
       "\n",
       "A data.frame: 5 × 1\n",
       "\n",
       "| Rating &lt;dbl&gt; |\n",
       "|---|\n",
       "| 3.75 |\n",
       "| 3.25 |\n",
       "| 3.50 |\n",
       "| 3.50 |\n",
       "| 3.75 |\n",
       "\n"
      ],
      "text/plain": [
       "  Rating\n",
       "1 3.75  \n",
       "2 3.25  \n",
       "3 3.50  \n",
       "4 3.50  \n",
       "5 3.75  "
      ]
     },
     "metadata": {},
     "output_type": "display_data"
    }
   ],
   "source": [
    "sum(is.na(choco$Rating)) # Missing ratings\n",
    "\n",
    "# Estimating missing ratings according to median by company:\n",
    "\n",
    "per_comp = aggregate(choco$Rating, by=list(choco$Company), na.rm=TRUE, median)\n",
    "colnames(per_comp) = c(\"Company\", \"MRating\")\n",
    "\n",
    "# Replacing a few values manually\n",
    "\n",
    "choco$Rating[is.na(choco$Rating) & choco$Company == \"Vicuna\"] <- per_comp$Rating[per_comp$Company == \"Vicuna\"]\n",
    "choco$Rating[is.na(choco$Rating) & choco$Company == \"Zokoko\"] <- per_comp$Rating[per_comp$Company == \"Zokoko\"]\n",
    "choco$Rating[is.na(choco$Rating) & choco$Company == \"Videri\"] <- per_comp$Rating[per_comp$Company == \"Videri\"]\n",
    "\n",
    "\n",
    "choco %>% filter(Company == \"Zokoko\") %>% select(Rating)\n"
   ]
  },
  {
   "cell_type": "markdown",
   "metadata": {
    "vscode": {
     "languageId": "r"
    }
   },
   "source": [
    "# Checking out outliers"
   ]
  },
  {
   "cell_type": "markdown",
   "metadata": {
    "vscode": {
     "languageId": "r"
    }
   },
   "source": [
    "Boxplots show values more than three stdevs away from the median as outliers.\n",
    "\n",
    "Could these really be of extremely high/low quality or simply anomalies? Judgment call!"
   ]
  },
  {
   "cell_type": "code",
   "execution_count": 35,
   "metadata": {},
   "outputs": [
    {
     "data": {
      "image/png": "[encoded data removed]",
      "text/plain": [
       "plot without title"
      ]
     },
     "metadata": {
      "image/png": {
       "height": 420,
       "width": 420
      }
     },
     "output_type": "display_data"
    }
   ],
   "source": [
    "boxplot(choco$Cocoa.Percent)"
   ]
  }
 ],
 "metadata": {
  "kernelspec": {
   "display_name": "Python 3",
   "language": "python",
   "name": "python3"
  },
  "language_info": {
   "codemirror_mode": {
    "name": "ipython",
    "version": 3
   },
   "file_extension": ".py",
   "mimetype": "text/x-python",
   "name": "python",
   "nbconvert_exporter": "python",
   "pygments_lexer": "ipython3",
   "version": "3.12.5"
  }
 },
 "nbformat": 4,
 "nbformat_minor": 2
}
