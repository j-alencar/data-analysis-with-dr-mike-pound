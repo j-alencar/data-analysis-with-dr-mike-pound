{
 "cells": [
  {
   "cell_type": "markdown",
   "metadata": {},
   "source": [
    "Data is filthy."
   ]
  },
  {
   "cell_type": "markdown",
   "metadata": {},
   "source": [
    "# Extraction, first look"
   ]
  },
  {
   "cell_type": "code",
   "execution_count": 42,
   "metadata": {},
   "outputs": [
    {
     "data": {
      "text/html": [
       "<div>\n",
       "<style scoped>\n",
       "    .dataframe tbody tr th:only-of-type {\n",
       "        vertical-align: middle;\n",
       "    }\n",
       "\n",
       "    .dataframe tbody tr th {\n",
       "        vertical-align: top;\n",
       "    }\n",
       "\n",
       "    .dataframe thead th {\n",
       "        text-align: right;\n",
       "    }\n",
       "</style>\n",
       "<table border=\"1\" class=\"dataframe\">\n",
       "  <thead>\n",
       "    <tr style=\"text-align: right;\">\n",
       "      <th></th>\n",
       "      <th>REF</th>\n",
       "      <th>Review.Date</th>\n",
       "      <th>Cocoa.Percent</th>\n",
       "      <th>Rating</th>\n",
       "      <th>Bar.Price</th>\n",
       "    </tr>\n",
       "  </thead>\n",
       "  <tbody>\n",
       "    <tr>\n",
       "      <th>count</th>\n",
       "      <td>1852.000000</td>\n",
       "      <td>1852.000000</td>\n",
       "      <td>1852.000000</td>\n",
       "      <td>1587.000000</td>\n",
       "      <td>1296.000000</td>\n",
       "    </tr>\n",
       "    <tr>\n",
       "      <th>mean</th>\n",
       "      <td>1065.007019</td>\n",
       "      <td>2012.469222</td>\n",
       "      <td>71.697354</td>\n",
       "      <td>3.264650</td>\n",
       "      <td>5.455234</td>\n",
       "    </tr>\n",
       "    <tr>\n",
       "      <th>std</th>\n",
       "      <td>568.299301</td>\n",
       "      <td>2.992810</td>\n",
       "      <td>6.260081</td>\n",
       "      <td>0.475335</td>\n",
       "      <td>2.569743</td>\n",
       "    </tr>\n",
       "    <tr>\n",
       "      <th>min</th>\n",
       "      <td>5.000000</td>\n",
       "      <td>2006.000000</td>\n",
       "      <td>42.000000</td>\n",
       "      <td>1.000000</td>\n",
       "      <td>1.004188</td>\n",
       "    </tr>\n",
       "    <tr>\n",
       "      <th>25%</th>\n",
       "      <td>600.000000</td>\n",
       "      <td>2010.000000</td>\n",
       "      <td>70.000000</td>\n",
       "      <td>3.000000</td>\n",
       "      <td>3.277589</td>\n",
       "    </tr>\n",
       "    <tr>\n",
       "      <th>50%</th>\n",
       "      <td>1099.000000</td>\n",
       "      <td>2013.000000</td>\n",
       "      <td>70.000000</td>\n",
       "      <td>3.250000</td>\n",
       "      <td>5.411294</td>\n",
       "    </tr>\n",
       "    <tr>\n",
       "      <th>75%</th>\n",
       "      <td>1546.000000</td>\n",
       "      <td>2015.000000</td>\n",
       "      <td>75.000000</td>\n",
       "      <td>3.500000</td>\n",
       "      <td>7.654216</td>\n",
       "    </tr>\n",
       "    <tr>\n",
       "      <th>max</th>\n",
       "      <td>2008.000000</td>\n",
       "      <td>2017.000000</td>\n",
       "      <td>100.000000</td>\n",
       "      <td>5.000000</td>\n",
       "      <td>9.994641</td>\n",
       "    </tr>\n",
       "  </tbody>\n",
       "</table>\n",
       "</div>"
      ],
      "text/plain": [
       "               REF  Review.Date  Cocoa.Percent       Rating    Bar.Price\n",
       "count  1852.000000  1852.000000    1852.000000  1587.000000  1296.000000\n",
       "mean   1065.007019  2012.469222      71.697354     3.264650     5.455234\n",
       "std     568.299301     2.992810       6.260081     0.475335     2.569743\n",
       "min       5.000000  2006.000000      42.000000     1.000000     1.004188\n",
       "25%     600.000000  2010.000000      70.000000     3.000000     3.277589\n",
       "50%    1099.000000  2013.000000      70.000000     3.250000     5.411294\n",
       "75%    1546.000000  2015.000000      75.000000     3.500000     7.654216\n",
       "max    2008.000000  2017.000000     100.000000     5.000000     9.994641"
      ]
     },
     "execution_count": 42,
     "metadata": {},
     "output_type": "execute_result"
    }
   ],
   "source": [
    "import pandas as pd\n",
    "import seaborn as sns\n",
    "\n",
    "df = pd.read_csv(\"choco_wprice.csv\", encoding = \"ANSI\")\n",
    "\n",
    "df.describe()"
   ]
  },
  {
   "cell_type": "markdown",
   "metadata": {},
   "source": [
    "# Transformation"
   ]
  },
  {
   "cell_type": "markdown",
   "metadata": {},
   "source": [
    " • Deleting missing values"
   ]
  },
  {
   "cell_type": "code",
   "execution_count": 43,
   "metadata": {},
   "outputs": [
    {
     "data": {
      "text/plain": [
       "Company                   0\n",
       "Specific.Bean.Origin      0\n",
       "REF                       0\n",
       "Review.Date               0\n",
       "Cocoa.Percent             0\n",
       "Company.Location          0\n",
       "Rating                  265\n",
       "Bean.Type               938\n",
       "Broad.Bean.Origin        74\n",
       "Bar.Price               556\n",
       "dtype: int64"
      ]
     },
     "execution_count": 43,
     "metadata": {},
     "output_type": "execute_result"
    }
   ],
   "source": [
    "# Let's see how many missing values per attribute we have.\n",
    "df.isnull().sum()"
   ]
  },
  {
   "cell_type": "code",
   "execution_count": 44,
   "metadata": {},
   "outputs": [
    {
     "name": "stdout",
     "output_type": "stream",
     "text": [
      "Company                 0.000000\n",
      "Specific.Bean.Origin    0.000000\n",
      "REF                     0.000000\n",
      "Review.Date             0.000000\n",
      "Cocoa.Percent           0.000000\n",
      "Company.Location        0.000000\n",
      "Rating                  0.143089\n",
      "Bean.Type               0.506479\n",
      "Broad.Bean.Origin       0.039957\n",
      "Bar.Price               0.300216\n",
      "dtype: float64\n"
     ]
    }
   ],
   "source": [
    "# Now, let's see the proportion of these values.\n",
    "# Rule of thumb, an attribute with > 50, maybe 60% missing data is a candidate for deletion in a static dataset\n",
    "missing_values_proportion = df.isnull().mean()\n",
    "missing_values_proportion = df.apply(lambda x: (x == \"\").sum() + x.isnull().sum()) / len(df)\n",
    "print(missing_values_proportion)"
   ]
  },
  {
   "cell_type": "code",
   "execution_count": 45,
   "metadata": {},
   "outputs": [],
   "source": [
    "# For the sake of practice, we'll delete attributes missing 50% or more values\n",
    "atts_to_delete = missing_values_proportion[missing_values_proportion >= 0.5].index\n",
    "df = df.drop(columns=atts_to_delete)"
   ]
  },
  {
   "cell_type": "markdown",
   "metadata": {
    "vscode": {
     "languageId": "r"
    }
   },
   "source": [
    " • Replacing missing values"
   ]
  },
  {
   "cell_type": "code",
   "execution_count": 46,
   "metadata": {},
   "outputs": [],
   "source": [
    "# Are there any attributes whose values can be estimated?\n",
    "# We could replace with 0, replace with mean, or replace with median.\n",
    "\n",
    "# For Bar.Price, the mean is the most proper replacement:\n",
    "df['Bar.Price'] = df['Bar.Price'].fillna(df['Bar.Price'].mean())"
   ]
  },
  {
   "cell_type": "markdown",
   "metadata": {
    "vscode": {
     "languageId": "r"
    }
   },
   "source": [
    " • Replacing missing values stratigraphically"
   ]
  },
  {
   "cell_type": "code",
   "execution_count": 41,
   "metadata": {},
   "outputs": [
    {
     "name": "stdout",
     "output_type": "stream",
     "text": [
      "1829    3.75\n",
      "1830    3.25\n",
      "1831    3.50\n",
      "1832    3.50\n",
      "1833    3.75\n",
      "Name: Rating, dtype: float64\n"
     ]
    }
   ],
   "source": [
    "df['Rating'].isna().sum() # Missing ratings\n",
    "\n",
    "# Estimating missing ratings according to median by company:\n",
    "per_comp = df.groupby(['Company']).Rating.median()\n",
    "\n",
    "# Replacing a few values manually\n",
    "df.loc[df['Company'] == \"Vicuna\", 'Rating'] = df.loc[df['Company'] == \"Vicuna\", 'Rating'].fillna(per_comp['Vicuna'])\n",
    "df.loc[df['Company'] == \"Zokoko\", 'Rating'] = df.loc[df['Company'] == \"Zokoko\", 'Rating'].fillna(per_comp['Zokoko'])\n",
    "df.loc[df['Company'] == \"Videri\", 'Rating'] = df.loc[df['Company'] == \"Videri\", 'Rating'].fillna(per_comp['Videri'])\n",
    "\n",
    "zokoko_ratings = df[df['Company'] == \"Zokoko\"]['Rating']\n",
    "print(zokoko_ratings)"
   ]
  },
  {
   "cell_type": "markdown",
   "metadata": {
    "vscode": {
     "languageId": "r"
    }
   },
   "source": [
    "# Checking out outliers"
   ]
  },
  {
   "cell_type": "markdown",
   "metadata": {
    "vscode": {
     "languageId": "r"
    }
   },
   "source": [
    "Boxplots show values more than three stdevs away from the median as outliers.\n",
    "\n",
    "Could these really be of extremely high/low quality or simply anomalies? Judgment call!"
   ]
  },
  {
   "cell_type": "code",
   "execution_count": 47,
   "metadata": {},
   "outputs": [
    {
     "data": {
      "text/plain": [
       "<Axes: ylabel='Cocoa.Percent'>"
      ]
     },
     "execution_count": 47,
     "metadata": {},
     "output_type": "execute_result"
    },
    {
     "data": {
      "image/png": "[encoded data removed]",
      "text/plain": [
       "<Figure size 640x480 with 1 Axes>"
      ]
     },
     "metadata": {},
     "output_type": "display_data"
    }
   ],
   "source": [
    "sns.boxplot(df['Cocoa.Percent'])"
   ]
  }
 ],
 "metadata": {
  "kernelspec": {
   "display_name": "Python 3",
   "language": "python",
   "name": "python3"
  },
  "language_info": {
   "codemirror_mode": {
    "name": "ipython",
    "version": 3
   },
   "file_extension": ".py",
   "mimetype": "text/x-python",
   "name": "python",
   "nbconvert_exporter": "python",
   "pygments_lexer": "ipython3",
   "version": "3.12.5"
  }
 },
 "nbformat": 4,
 "nbformat_minor": 2
}
